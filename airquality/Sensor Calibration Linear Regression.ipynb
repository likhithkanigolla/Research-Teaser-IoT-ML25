{
 "cells": [
  {
   "cell_type": "markdown",
   "metadata": {},
   "source": [
    "# Sensor Calibration using Linear Regression\n",
    "\n",
    "This notebook demonstrates the calibration of a lower-end sensor against a high-end reference sensor using linear regression. \n",
    "The following steps are covered:\n",
    "\n",
    "1. Reading data from CSV files.\n",
    "2. Preparing and merging datasets.\n",
    "3. Performing linear regression.\n",
    "4. Visualizing the results.\n",
    "\n",
    "This process helps to establish a mathematical relationship between two sensors to calibrate the lower-end sensor's measurements."
   ]
  },
  {
   "cell_type": "code",
   "execution_count": 2,
   "metadata": {},
   "outputs": [],
   "source": [
    "import pandas as pd\n",
    "from sklearn.linear_model import LinearRegression\n",
    "import matplotlib.pyplot as plt\n",
    "import seaborn as sns\n",
    "\n",
    "# Configure plots\n",
    "sns.set(style='whitegrid')"
   ]
  },
  {
   "cell_type": "markdown",
   "metadata": {},
   "source": [
    "## Step 1: Load the datasets\n",
    "\n",
    "Here, we load two datasets:\n",
    "1. High-end sensor data (`high_end_sensor_data.csv`)\n",
    "2. Lower-end sensor data (`sensor1_data.csv`)\n",
    "\n",
    "Both datasets should have a common column (e.g., 'PM10') for calibration."
   ]
  },
  {
   "cell_type": "code",
   "execution_count": 3,
   "metadata": {},
   "outputs": [
    {
     "name": "stdout",
     "output_type": "stream",
     "text": [
      "High-End Sensor Data (Sample):\n"
     ]
    },
    {
     "data": {
      "text/html": [
       "<div>\n",
       "<style scoped>\n",
       "    .dataframe tbody tr th:only-of-type {\n",
       "        vertical-align: middle;\n",
       "    }\n",
       "\n",
       "    .dataframe tbody tr th {\n",
       "        vertical-align: top;\n",
       "    }\n",
       "\n",
       "    .dataframe thead th {\n",
       "        text-align: right;\n",
       "    }\n",
       "</style>\n",
       "<table border=\"1\" class=\"dataframe\">\n",
       "  <thead>\n",
       "    <tr style=\"text-align: right;\">\n",
       "      <th></th>\n",
       "      <th>PM25</th>\n",
       "      <th>PM10</th>\n",
       "    </tr>\n",
       "  </thead>\n",
       "  <tbody>\n",
       "    <tr>\n",
       "      <th>0</th>\n",
       "      <td>33.881573</td>\n",
       "      <td>112.793420</td>\n",
       "    </tr>\n",
       "    <tr>\n",
       "      <th>1</th>\n",
       "      <td>34.461682</td>\n",
       "      <td>70.883769</td>\n",
       "    </tr>\n",
       "    <tr>\n",
       "      <th>2</th>\n",
       "      <td>35.974989</td>\n",
       "      <td>76.010415</td>\n",
       "    </tr>\n",
       "    <tr>\n",
       "      <th>3</th>\n",
       "      <td>22.946075</td>\n",
       "      <td>134.181312</td>\n",
       "    </tr>\n",
       "    <tr>\n",
       "      <th>4</th>\n",
       "      <td>18.976898</td>\n",
       "      <td>116.029800</td>\n",
       "    </tr>\n",
       "  </tbody>\n",
       "</table>\n",
       "</div>"
      ],
      "text/plain": [
       "        PM25        PM10\n",
       "0  33.881573  112.793420\n",
       "1  34.461682   70.883769\n",
       "2  35.974989   76.010415\n",
       "3  22.946075  134.181312\n",
       "4  18.976898  116.029800"
      ]
     },
     "metadata": {},
     "output_type": "display_data"
    },
    {
     "name": "stdout",
     "output_type": "stream",
     "text": [
      "Sensor1 Data (Sample):\n"
     ]
    },
    {
     "data": {
      "text/html": [
       "<div>\n",
       "<style scoped>\n",
       "    .dataframe tbody tr th:only-of-type {\n",
       "        vertical-align: middle;\n",
       "    }\n",
       "\n",
       "    .dataframe tbody tr th {\n",
       "        vertical-align: top;\n",
       "    }\n",
       "\n",
       "    .dataframe thead th {\n",
       "        text-align: right;\n",
       "    }\n",
       "</style>\n",
       "<table border=\"1\" class=\"dataframe\">\n",
       "  <thead>\n",
       "    <tr style=\"text-align: right;\">\n",
       "      <th></th>\n",
       "      <th>PM25</th>\n",
       "      <th>PM10</th>\n",
       "    </tr>\n",
       "  </thead>\n",
       "  <tbody>\n",
       "    <tr>\n",
       "      <th>0</th>\n",
       "      <td>20.826785</td>\n",
       "      <td>118.561133</td>\n",
       "    </tr>\n",
       "    <tr>\n",
       "      <th>1</th>\n",
       "      <td>34.251643</td>\n",
       "      <td>63.329857</td>\n",
       "    </tr>\n",
       "    <tr>\n",
       "      <th>2</th>\n",
       "      <td>29.155459</td>\n",
       "      <td>71.001243</td>\n",
       "    </tr>\n",
       "    <tr>\n",
       "      <th>3</th>\n",
       "      <td>26.048743</td>\n",
       "      <td>143.956865</td>\n",
       "    </tr>\n",
       "    <tr>\n",
       "      <th>4</th>\n",
       "      <td>15.735234</td>\n",
       "      <td>115.036477</td>\n",
       "    </tr>\n",
       "  </tbody>\n",
       "</table>\n",
       "</div>"
      ],
      "text/plain": [
       "        PM25        PM10\n",
       "0  20.826785  118.561133\n",
       "1  34.251643   63.329857\n",
       "2  29.155459   71.001243\n",
       "3  26.048743  143.956865\n",
       "4  15.735234  115.036477"
      ]
     },
     "metadata": {},
     "output_type": "display_data"
    }
   ],
   "source": [
    "# Define file names and column name\n",
    "column_name = 'PM10'\n",
    "high_end_sensor_file = 'high_end_sensor_data.csv'\n",
    "sensor1_file = 'sensor1_data.csv'\n",
    "\n",
    "# Read the data from CSV files\n",
    "high_end_sensor_data = pd.read_csv(high_end_sensor_file)\n",
    "sensor1_data = pd.read_csv(sensor1_file)\n",
    "\n",
    "# Display sample data\n",
    "print('High-End Sensor Data (Sample):')\n",
    "display(high_end_sensor_data.head())\n",
    "\n",
    "print('Sensor1 Data (Sample):')\n",
    "display(sensor1_data.head())"
   ]
  },
  {
   "cell_type": "markdown",
   "metadata": {},
   "source": [
    "## Step 2: Validate and Merge Datasets\n",
    "\n",
    "Before merging, ensure the required column exists in both datasets. After validation, merge the data."
   ]
  },
  {
   "cell_type": "code",
   "execution_count": 4,
   "metadata": {},
   "outputs": [
    {
     "name": "stdout",
     "output_type": "stream",
     "text": [
      "Merged Data (Sample):\n"
     ]
    },
    {
     "data": {
      "text/html": [
       "<div>\n",
       "<style scoped>\n",
       "    .dataframe tbody tr th:only-of-type {\n",
       "        vertical-align: middle;\n",
       "    }\n",
       "\n",
       "    .dataframe tbody tr th {\n",
       "        vertical-align: top;\n",
       "    }\n",
       "\n",
       "    .dataframe thead th {\n",
       "        text-align: right;\n",
       "    }\n",
       "</style>\n",
       "<table border=\"1\" class=\"dataframe\">\n",
       "  <thead>\n",
       "    <tr style=\"text-align: right;\">\n",
       "      <th></th>\n",
       "      <th>PM25_x</th>\n",
       "      <th>PM10_high</th>\n",
       "      <th>PM25_y</th>\n",
       "      <th>PM10_sensor1</th>\n",
       "    </tr>\n",
       "  </thead>\n",
       "  <tbody>\n",
       "    <tr>\n",
       "      <th>0</th>\n",
       "      <td>33.881573</td>\n",
       "      <td>112.793420</td>\n",
       "      <td>20.826785</td>\n",
       "      <td>118.561133</td>\n",
       "    </tr>\n",
       "    <tr>\n",
       "      <th>1</th>\n",
       "      <td>34.461682</td>\n",
       "      <td>70.883769</td>\n",
       "      <td>34.251643</td>\n",
       "      <td>63.329857</td>\n",
       "    </tr>\n",
       "    <tr>\n",
       "      <th>2</th>\n",
       "      <td>35.974989</td>\n",
       "      <td>76.010415</td>\n",
       "      <td>29.155459</td>\n",
       "      <td>71.001243</td>\n",
       "    </tr>\n",
       "    <tr>\n",
       "      <th>3</th>\n",
       "      <td>22.946075</td>\n",
       "      <td>134.181312</td>\n",
       "      <td>26.048743</td>\n",
       "      <td>143.956865</td>\n",
       "    </tr>\n",
       "    <tr>\n",
       "      <th>4</th>\n",
       "      <td>18.976898</td>\n",
       "      <td>116.029800</td>\n",
       "      <td>15.735234</td>\n",
       "      <td>115.036477</td>\n",
       "    </tr>\n",
       "  </tbody>\n",
       "</table>\n",
       "</div>"
      ],
      "text/plain": [
       "      PM25_x   PM10_high     PM25_y  PM10_sensor1\n",
       "0  33.881573  112.793420  20.826785    118.561133\n",
       "1  34.461682   70.883769  34.251643     63.329857\n",
       "2  35.974989   76.010415  29.155459     71.001243\n",
       "3  22.946075  134.181312  26.048743    143.956865\n",
       "4  18.976898  116.029800  15.735234    115.036477"
      ]
     },
     "metadata": {},
     "output_type": "display_data"
    }
   ],
   "source": [
    "# Ensure the column exists in both datasets\n",
    "if column_name not in high_end_sensor_data.columns or column_name not in sensor1_data.columns:\n",
    "    raise ValueError(f\"Column '{column_name}' must exist in both datasets.\")\n",
    "\n",
    "# Rename columns to avoid conflicts after merging\n",
    "high_end_sensor_data = high_end_sensor_data.rename(columns={column_name: f'{column_name}_high'})\n",
    "sensor1_data = sensor1_data.rename(columns={column_name: f'{column_name}_sensor1'})\n",
    "\n",
    "# Merge the data on a common index or column\n",
    "merged_data = pd.merge(high_end_sensor_data, sensor1_data, left_index=True, right_index=True)\n",
    "\n",
    "# Display merged data sample\n",
    "print('Merged Data (Sample):')\n",
    "display(merged_data.head())"
   ]
  },
  {
   "cell_type": "code",
   "execution_count": 5,
   "metadata": {},
   "outputs": [
    {
     "data": {
      "image/png": "[encoded data removed]",
      "text/plain": [
       "<Figure size 800x600 with 1 Axes>"
      ]
     },
     "metadata": {},
     "output_type": "display_data"
    }
   ],
   "source": [
    "# Scatter plot of the merged data\n",
    "plt.figure(figsize=(8, 6))\n",
    "plt.scatter(merged_data[f'{column_name}_sensor1'], merged_data[f'{column_name}_high'], color='green')\n",
    "plt.xlabel('Sensor1 Data')\n",
    "plt.ylabel('High-End Sensor Data')\n",
    "plt.title('Scatter Plot of Merged Data')\n",
    "plt.show()"
   ]
  },
  {
   "cell_type": "markdown",
   "metadata": {},
   "source": [
    "## Step 3: Perform Linear Regression\n",
    "\n",
    "Using the lower-end sensor data as the independent variable (X) and the high-end sensor data as the dependent variable (y), \n",
    "we fit a linear regression model."
   ]
  },
  {
   "cell_type": "code",
   "execution_count": 7,
   "metadata": {},
   "outputs": [
    {
     "name": "stdout",
     "output_type": "stream",
     "text": [
      "Coefficient: 0.9906418391604925\n",
      "Intercept: 0.5170801847402089\n"
     ]
    }
   ],
   "source": [
    "# Extract relevant columns for regression\n",
    "X = merged_data[[f'{column_name}_sensor1']].values  # Sensor1 data\n",
    "y = merged_data[f'{column_name}_high'].values       # High-end sensor data\n",
    "\n",
    "# Create and fit the linear regression model\n",
    "model = LinearRegression()\n",
    "model.fit(X, y)\n",
    "\n",
    "# Get the coefficient and intercept\n",
    "coefficient = model.coef_[0]\n",
    "intercept = model.intercept_\n",
    "\n",
    "# Print the results\n",
    "print(f'Coefficient: {coefficient}')\n",
    "print(f'Intercept: {intercept}')"
   ]
  },
  {
   "cell_type": "markdown",
   "metadata": {
    "vscode": {
     "languageId": "tex"
    }
   },
   "source": [
    "### Other Regression Models\n",
    "\n",
    "In addition to the standard linear regression model, we also explore **Ridge** and **Lasso** regression models. These models are useful when dealing with multicollinearity or when we want to perform feature selection.\n",
    "\n",
    "#### Ridge Regression\n",
    "Ridge regression adds a penalty equal to the square of the magnitude of the coefficients to the loss function. This penalty term helps shrink the coefficients, thus reducing model complexity and preventing overfitting.\n",
    "\n",
    "The Ridge regression model equation is:\n",
    "\n",
    "$$\n",
    "y = \\beta_0 + \\beta_1 X + \\lambda \\sum_{i=1}^{n} \\beta_i^2\n",
    "$$\n",
    "\n",
    "Where:\n",
    "- \\( \\beta_0 \\): Intercept\n",
    "- \\( \\beta_1 \\): Coefficient\n",
    "- \\( \\lambda \\): Regularization parameter"
   ]
  },
  {
   "cell_type": "code",
   "execution_count": 14,
   "metadata": {},
   "outputs": [
    {
     "name": "stdout",
     "output_type": "stream",
     "text": [
      "Ridge Regression Predictions (first 5): [117.96861837  63.25453187  70.85408258 143.12654248 114.47696746]\n",
      "Ridge Coefficient: 0.9906359228380804\n",
      "Ridge Intercept: 0.5177010030189422\n",
      "Ridge Regularization Parameter (alpha): 1.0\n",
      "Ridge Regression Model Equation: y = 0.9906359228380804 * X + 0.5177010030189422\n"
     ]
    }
   ],
   "source": [
    "from sklearn.linear_model import Ridge\n",
    "from sklearn.linear_model import Lasso\n",
    "\n",
    "# Ridge Regression\n",
    "ridge_model = Ridge()\n",
    "ridge_model.fit(X, y)\n",
    "\n",
    "# Get the coefficient, intercept, and regularization parameter\n",
    "ridge_coefficient = ridge_model.coef_[0]\n",
    "ridge_intercept = ridge_model.intercept_\n",
    "ridge_alpha = ridge_model.alpha\n",
    "\n",
    "# Print the first 5 predictions\n",
    "ridge_predictions = ridge_model.predict(X)\n",
    "print('Ridge Regression Predictions (first 5):', ridge_predictions[:5])\n",
    "\n",
    "# Print the coefficients, intercept, and regularization parameter\n",
    "print(f'Ridge Coefficient: {ridge_coefficient}')\n",
    "print(f'Ridge Intercept: {ridge_intercept}')\n",
    "print(f'Ridge Regularization Parameter (alpha): {ridge_alpha}')\n",
    "\n",
    "# Display the equation for the Ridge regression model\n",
    "print(f'Ridge Regression Model Equation: y = {ridge_coefficient} * X + {ridge_intercept}')\n"
   ]
  },
  {
   "cell_type": "markdown",
   "metadata": {},
   "source": [
    "\n",
    "#### Lasso Regression\n",
    "Lasso regression adds a penalty equal to the absolute value of the magnitude of the coefficients to the loss function. This penalty term can shrink some coefficients to zero, effectively performing feature selection.\n",
    "\n",
    "The Lasso regression model equation is:\n",
    "\n",
    "$$\n",
    "y = \\beta_0 + \\beta_1 X + \\lambda \\sum_{i=1}^{n} |\\beta_i|\n",
    "$$\n",
    "\n",
    "Where:\n",
    "- \\( \\beta_0 \\): Intercept\n",
    "- \\( \\beta_1 \\): Coefficient\n",
    "- \\( \\lambda \\): Regularization parameter\n"
   ]
  },
  {
   "cell_type": "code",
   "execution_count": 15,
   "metadata": {},
   "outputs": [
    {
     "name": "stdout",
     "output_type": "stream",
     "text": [
      "Lasso Regression Predictions (first 5): [117.95242105  63.30397875  70.89441176 143.08016149 114.46495931]\n",
      "Lasso Coefficient: 0.9894473897618926\n",
      "Lasso Intercept: 0.6424175088452557\n",
      "Lasso Regularization Parameter (alpha): 1.0\n",
      "Lasso Regression Model Equation: y = 0.9894473897618926 * X + 0.6424175088452557\n"
     ]
    }
   ],
   "source": [
    "# Lasso Regression\n",
    "lasso_model = Lasso()\n",
    "lasso_model.fit(X, y)\n",
    "\n",
    "# Get the coefficient, intercept, and regularization parameter\n",
    "lasso_coefficient = lasso_model.coef_[0]\n",
    "lasso_intercept = lasso_model.intercept_\n",
    "lasso_alpha = lasso_model.alpha\n",
    "\n",
    "# Print the first 5 predictions\n",
    "lasso_predictions = lasso_model.predict(X)\n",
    "print('Lasso Regression Predictions (first 5):', lasso_predictions[:5])\n",
    "\n",
    "# Print the coefficients, intercept, and regularization parameter\n",
    "print(f'Lasso Coefficient: {lasso_coefficient}')\n",
    "print(f'Lasso Intercept: {lasso_intercept}')\n",
    "print(f'Lasso Regularization Parameter (alpha): {lasso_alpha}')\n",
    "\n",
    "# Display the equation for the Lasso regression model\n",
    "print(f'Lasso Regression Model Equation: y = {lasso_coefficient} * X + {lasso_intercept}')"
   ]
  },
  {
   "cell_type": "markdown",
   "metadata": {},
   "source": [
    "\n",
    "#### Benefits of Ridge and Lasso Regression\n",
    "Both Ridge and Lasso regression models help improve the generalization of the model by adding a regularization term to the loss function:\n",
    "- **Ridge**: Reduces model complexity by shrinking coefficients but does not perform feature selection.\n",
    "- **Lasso**: Performs feature selection by shrinking some coefficients to zero.\n"
   ]
  },
  {
   "cell_type": "markdown",
   "metadata": {},
   "source": [
    "## Step 4: Visualize Results\n",
    "\n",
    "The scatter plot below shows the raw data points (blue dots). The red line represents the regression line fit to the data."
   ]
  },
  {
   "cell_type": "code",
   "execution_count": 5,
   "metadata": {},
   "outputs": [
    {
     "data": {
      "image/png": "[encoded data removed]",
      "text/plain": [
       "<Figure size 800x600 with 1 Axes>"
      ]
     },
     "metadata": {},
     "output_type": "display_data"
    }
   ],
   "source": [
    "# Plot the results\n",
    "plt.figure(figsize=(8, 6))\n",
    "plt.scatter(X, y, color='blue', label='Data Points')\n",
    "plt.plot(X, model.predict(X), color='red', label='Regression Line')\n",
    "plt.xlabel('Sensor1 Data')\n",
    "plt.ylabel('High-End Sensor Data')\n",
    "plt.title('Sensor Calibration')\n",
    "plt.legend()\n",
    "plt.show()"
   ]
  },
  {
   "cell_type": "markdown",
   "metadata": {},
   "source": [
    "### Residuals Plot\n",
    "\n",
    "Residuals are the differences between the observed and predicted values. A good model should have residuals randomly distributed around zero."
   ]
  },
  {
   "cell_type": "code",
   "execution_count": 6,
   "metadata": {},
   "outputs": [
    {
     "data": {
      "image/png": "[encoded data removed]",
      "text/plain": [
       "<Figure size 800x600 with 1 Axes>"
      ]
     },
     "metadata": {},
     "output_type": "display_data"
    }
   ],
   "source": [
    "# Calculate residuals\n",
    "residuals = y - model.predict(X)\n",
    "\n",
    "# Plot residuals\n",
    "plt.figure(figsize=(8, 6))\n",
    "plt.scatter(X, residuals, color='purple')\n",
    "plt.axhline(y=0, color='black', linestyle='--', linewidth=1)\n",
    "plt.xlabel('Sensor1 Data')\n",
    "plt.ylabel('Residuals')\n",
    "plt.title('Residuals Plot')\n",
    "plt.show()"
   ]
  },
  {
   "cell_type": "code",
   "execution_count": 11,
   "metadata": {},
   "outputs": [
    {
     "name": "stdout",
     "output_type": "stream",
     "text": [
      "Linear Regression Model Metrics:\n",
      "Mean Squared Error (MSE): 103.45342876391905\n",
      "Mean Absolute Error (MAE): 8.112812950467074\n",
      "R-squared (R2): 0.8881660919492494\n"
     ]
    }
   ],
   "source": [
    "from sklearn.metrics import mean_squared_error, mean_absolute_error, r2_score\n",
    "\n",
    "# Predictions from the linear regression model\n",
    "linear_predictions = model.predict(X)\n",
    "\n",
    "# Calculate metrics for the linear regression model\n",
    "mse = mean_squared_error(y, linear_predictions)\n",
    "mae = mean_absolute_error(y, linear_predictions)\n",
    "r2 = r2_score(y, linear_predictions)\n",
    "\n",
    "print(f'Linear Regression Model Metrics:')\n",
    "print(f'Mean Squared Error (MSE): {mse}')\n",
    "print(f'Mean Absolute Error (MAE): {mae}')\n",
    "print(f'R-squared (R2): {r2}')"
   ]
  },
  {
   "cell_type": "code",
   "execution_count": 13,
   "metadata": {
    "vscode": {
     "languageId": "markdown"
    }
   },
   "outputs": [
    {
     "data": {
      "text/html": [
       "<div>\n",
       "<style scoped>\n",
       "    .dataframe tbody tr th:only-of-type {\n",
       "        vertical-align: middle;\n",
       "    }\n",
       "\n",
       "    .dataframe tbody tr th {\n",
       "        vertical-align: top;\n",
       "    }\n",
       "\n",
       "    .dataframe thead th {\n",
       "        text-align: right;\n",
       "    }\n",
       "</style>\n",
       "<table border=\"1\" class=\"dataframe\">\n",
       "  <thead>\n",
       "    <tr style=\"text-align: right;\">\n",
       "      <th></th>\n",
       "      <th>Model</th>\n",
       "      <th>MSE</th>\n",
       "      <th>MAE</th>\n",
       "      <th>R2</th>\n",
       "    </tr>\n",
       "  </thead>\n",
       "  <tbody>\n",
       "    <tr>\n",
       "      <th>0</th>\n",
       "      <td>Linear Regression</td>\n",
       "      <td>103.453429</td>\n",
       "      <td>8.112813</td>\n",
       "      <td>0.888166</td>\n",
       "    </tr>\n",
       "    <tr>\n",
       "      <th>1</th>\n",
       "      <td>Lasso Regression</td>\n",
       "      <td>103.454623</td>\n",
       "      <td>8.111944</td>\n",
       "      <td>0.888165</td>\n",
       "    </tr>\n",
       "    <tr>\n",
       "      <th>2</th>\n",
       "      <td>Ridge Regression</td>\n",
       "      <td>103.453429</td>\n",
       "      <td>8.112809</td>\n",
       "      <td>0.888166</td>\n",
       "    </tr>\n",
       "  </tbody>\n",
       "</table>\n",
       "</div>"
      ],
      "text/plain": [
       "               Model         MSE       MAE        R2\n",
       "0  Linear Regression  103.453429  8.112813  0.888166\n",
       "1   Lasso Regression  103.454623  8.111944  0.888165\n",
       "2   Ridge Regression  103.453429  8.112809  0.888166"
      ]
     },
     "metadata": {},
     "output_type": "display_data"
    },
    {
     "name": "stdout",
     "output_type": "stream",
     "text": [
      "Best Performing Model:\n",
      "Model    Linear Regression\n",
      "MSE             103.453429\n",
      "MAE               8.112813\n",
      "R2                0.888166\n",
      "Name: 0, dtype: object\n"
     ]
    }
   ],
   "source": [
    "# Calculate metrics for the linear regression model\n",
    "linear_mse = mean_squared_error(y, linear_predictions)\n",
    "linear_mae = mean_absolute_error(y, linear_predictions)\n",
    "linear_r2 = r2_score(y, linear_predictions)\n",
    "\n",
    "# Calculate metrics for the lasso regression model\n",
    "lasso_mse = mean_squared_error(y, lasso_predictions)\n",
    "lasso_mae = mean_absolute_error(y, lasso_predictions)\n",
    "lasso_r2 = r2_score(y, lasso_predictions)\n",
    "\n",
    "# Calculate metrics for the ridge regression model\n",
    "ridge_mse = mean_squared_error(y, ridge_predictions)\n",
    "ridge_mae = mean_absolute_error(y, ridge_predictions)\n",
    "ridge_r2 = r2_score(y, ridge_predictions)\n",
    "\n",
    "# Create a DataFrame to compare the metrics\n",
    "metrics_df = pd.DataFrame({\n",
    "    'Model': ['Linear Regression', 'Lasso Regression', 'Ridge Regression'],\n",
    "    'MSE': [linear_mse, lasso_mse, ridge_mse],\n",
    "    'MAE': [linear_mae, lasso_mae, ridge_mae],\n",
    "    'R2': [linear_r2, lasso_r2, ridge_r2]\n",
    "})\n",
    "\n",
    "# Display the metrics comparison\n",
    "display(metrics_df)\n",
    "\n",
    "# Determine the best performing model based on R2 score\n",
    "best_model = metrics_df.loc[metrics_df['R2'].idxmax()]\n",
    "print(f'Best Performing Model:\\n{best_model}')"
   ]
  }
 ],
 "metadata": {
  "kernelspec": {
   "display_name": "venv",
   "language": "python",
   "name": "python3"
  },
  "language_info": {
   "codemirror_mode": {
    "name": "ipython",
    "version": 3
   },
   "file_extension": ".py",
   "mimetype": "text/x-python",
   "name": "python",
   "nbconvert_exporter": "python",
   "pygments_lexer": "ipython3",
   "version": "3.11.6"
  }
 },
 "nbformat": 4,
 "nbformat_minor": 2
}
