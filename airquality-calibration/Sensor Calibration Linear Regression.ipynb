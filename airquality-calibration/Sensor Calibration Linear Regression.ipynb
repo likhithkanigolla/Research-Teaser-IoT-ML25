{
 "cells": [
  {
   "cell_type": "markdown",
   "metadata": {},
   "source": [
    "# Air Quality Sensor Calibration\n",
    "\n",
    "This notebook demonstrates the calibration of a lower-end sensor against a high-end reference sensor using linear regression. \n",
    "The following steps are covered:\n",
    "\n",
    "1. Reading data from CSV files.\n",
    "2. Preparing and merging datasets.\n",
    "3. Performing linear regression.\n",
    "4. Visualizing the results.\n",
    "\n",
    "This process helps to establish a mathematical relationship between two sensors to calibrate the lower-end sensor's measurements."
   ]
  },
  {
   "cell_type": "code",
   "execution_count": 21,
   "metadata": {},
   "outputs": [],
   "source": [
    "import pandas as pd\n",
    "from sklearn.linear_model import LinearRegression\n",
    "import matplotlib.pyplot as plt\n",
    "import seaborn as sns\n",
    "\n",
    "# Configure plots\n",
    "sns.set(style='whitegrid')"
   ]
  },
  {
   "cell_type": "markdown",
   "metadata": {},
   "source": [
    "## Step 1: Load the datasets\n",
    "\n",
    "Here, we load two datasets:\n",
    "1. High-end sensor data (`Aero_IoT_Workshop_Batch_4.csv.csv`)\n",
    "2. Lower-end sensor data (`Team_XX.csv`)\n",
    "\n",
    "Both datasets should have a common column (e.g., 'PM10') for calibration."
   ]
  },
  {
   "cell_type": "code",
   "execution_count": null,
   "metadata": {},
   "outputs": [],
   "source": [
    "sensor_file_path = '../datasets/Team_01.csv'\n",
    "sensor_data = pd.read_csv(sensor_file_path)\n",
    "print(sensor_data.head())\n",
    "\n",
    "# High-end sensor data\n",
    "aero_sensor_file_path = '../datasets/Aero_IoT_Workshop_Batch_4.csv'\n",
    "aero_sensor= pd.read_csv(aero_sensor_file_path)\n",
    "print(aero_sensor.head())"
   ]
  },
  {
   "cell_type": "code",
   "execution_count": 23,
   "metadata": {},
   "outputs": [],
   "source": [
    "sensor_data_2_path = '../datasets/Team_02.csv'\n",
    "sensor_data_2 = pd.read_csv(sensor_data_2_path)\n",
    "\n",
    "sensor_data_3_path = '../datasets/Team_03.csv'\n",
    "sensor_data_3 = pd.read_csv(sensor_data_3_path)"
   ]
  },
  {
   "cell_type": "markdown",
   "metadata": {},
   "source": [
    "## Step 2: Validate and Merge Datasets\n",
    "\n",
    "Before merging, ensure the required column exists in both datasets. After validation, merge the data."
   ]
  },
  {
   "cell_type": "code",
   "execution_count": null,
   "metadata": {},
   "outputs": [],
   "source": [
    "# Convert the 'created_at' column to datetime format\n",
    "sensor_data['created_at'] = pd.to_datetime(sensor_data['created_at'])\n",
    "\n",
    "# Format the 'created_at' column to the desired format\n",
    "sensor_data['created_at'] = sensor_data['created_at'].dt.strftime('%d %b %Y %H:%M')\n",
    "print(sensor_data.head(10))\n",
    "sensor_data.info()\n",
    "\n",
    "\n",
    "# Group by 'created_at' and calculate the mean for 'PM2.5' and 'PM10'\n",
    "sensor_data = sensor_data.groupby('created_at')[['PM2.5', 'PM10']].mean().reset_index()\n",
    "\n",
    "# Display the first few rows of the DataFrame\n",
    "print(sensor_data.head(10))\n",
    "sensor_data.info()\n"
   ]
  },
  {
   "cell_type": "code",
   "execution_count": null,
   "metadata": {},
   "outputs": [],
   "source": [
    "aero_sensor= aero_sensor.drop_duplicates(subset='Date Time')\n",
    "aero_sensor.head()\n",
    "aero_sensor.info()\n",
    "\n",
    "print(aero_sensor.columns)"
   ]
  },
  {
   "cell_type": "code",
   "execution_count": null,
   "metadata": {
    "vscode": {
     "languageId": "ruby"
    }
   },
   "outputs": [],
   "source": [
    "# Rename the 'Date Time' column in aero_sensor to match 'created_at' in sensor_data\n",
    "aero_sensor = aero_sensor.rename(columns={'Date Time': 'created_at'})\n",
    "\n",
    "# Select only the 'created_at', 'PM10(ppm)', and 'PM2.5(ppm)' columns from aero_sensor\n",
    "aero_sensor_selected = aero_sensor[['created_at', ' PM10(ppm)', ' PM2.5(ppm)']].copy()\n",
    "\n",
    "#Convert PM2.5 and PM10 from ppm to ppb\n",
    "aero_sensor_selected.loc[:, ' PM10(ppm)'] = aero_sensor_selected[' PM10(ppm)'] * 1000\n",
    "aero_sensor_selected.loc[:, ' PM2.5(ppm)'] = aero_sensor_selected[' PM2.5(ppm)'] * 1000\n",
    "\n",
    "# Rename the columns \n",
    "aero_sensor_selected.rename(columns={' PM10(ppm)': 'PM10_highend', ' PM2.5(ppm)': 'PM2.5_highend'}, inplace=True)\n",
    "\n",
    "# Merge the datasets on 'created_at' column\n",
    "merged_data = pd.merge(sensor_data, aero_sensor_selected, on='created_at', how='inner')\n",
    "\n",
    "merged_data.head()\n",
    "merged_data.info()"
   ]
  },
  {
   "cell_type": "code",
   "execution_count": null,
   "metadata": {
    "vscode": {
     "languageId": "ruby"
    }
   },
   "outputs": [],
   "source": [
    "# Drop rows with any null values\n",
    "merged_data = merged_data.dropna()\n",
    "merged_data.info()"
   ]
  },
  {
   "cell_type": "code",
   "execution_count": 28,
   "metadata": {},
   "outputs": [],
   "source": [
    "# Define file names and column name\n",
    "column_name = 'PM10'"
   ]
  },
  {
   "cell_type": "code",
   "execution_count": null,
   "metadata": {},
   "outputs": [],
   "source": [
    "# Scatter plot of the merged data\n",
    "plt.figure(figsize=(8, 6))\n",
    "plt.scatter(merged_data[f'{column_name}'], merged_data[f'{column_name}_highend'], color='green',s=1)\n",
    "plt.xlabel('Sensor1 Data')\n",
    "plt.ylabel('Aero Sensor Data')\n",
    "plt.title('Scatter Plot of Merged Data')\n",
    "plt.show()"
   ]
  },
  {
   "cell_type": "markdown",
   "metadata": {},
   "source": [
    "## Step 3: Perform Linear Regression\n",
    "\n",
    "Using the lower-end sensor data as the independent variable (X) and the high-end sensor data as the dependent variable (y), \n",
    "we fit a linear regression model."
   ]
  },
  {
   "cell_type": "code",
   "execution_count": null,
   "metadata": {},
   "outputs": [],
   "source": [
    "\n",
    "# Extract relevant columns for regression\n",
    "X = merged_data[[f'{column_name}']].values  # Sensor1 data\n",
    "y = merged_data[f'{column_name}_highend'].values       # High-end sensor data\n",
    "\n",
    "# Create and fit the linear regression model\n",
    "model = LinearRegression()\n",
    "model.fit(X, y)\n",
    "\n",
    "# Get the coefficient and intercept\n",
    "coefficient = model.coef_[0]\n",
    "intercept = model.intercept_\n",
    "\n",
    "# Print the results\n",
    "print(f'Coefficient: {coefficient}')\n",
    "print(f'Intercept: {intercept}')\n",
    "\n",
    "# Predictions from the linear regression model\n",
    "linear_predictions = model.predict(X)"
   ]
  },
  {
   "cell_type": "markdown",
   "metadata": {},
   "source": [
    "## Step 4: Visualize Results\n",
    "\n",
    "The scatter plot below shows the raw data points (blue dots). The red line represents the regression line fit to the data."
   ]
  },
  {
   "cell_type": "code",
   "execution_count": null,
   "metadata": {},
   "outputs": [],
   "source": [
    "# Plot the results\n",
    "plt.figure(figsize=(8, 6))\n",
    "plt.scatter(X, y, color='blue', label='Data Points', s=1)\n",
    "plt.plot(X, model.predict(X), color='red', label='Regression Line')\n",
    "plt.xlabel('Sensor1 Data')\n",
    "plt.ylabel('High-End Sensor Data')\n",
    "plt.title('Sensor Calibration')\n",
    "plt.legend()\n",
    "plt.show()"
   ]
  },
  {
   "cell_type": "code",
   "execution_count": null,
   "metadata": {},
   "outputs": [],
   "source": [
    "# Plot the results\n",
    "plt.figure(figsize=(12, 6))\n",
    "\n",
    "# Plot the original sensor values as lines\n",
    "plt.plot(merged_data['created_at'], merged_data[f'{column_name}'], color='blue', label='Original Sensor Values', linewidth=0.5)\n",
    "\n",
    "# Plot the high-end sensor values as lines\n",
    "plt.plot(merged_data['created_at'], merged_data[f'{column_name}_highend'], color='green', label='Aero Sensor Values', linewidth=0.5)\n",
    "\n",
    "plt.xlabel('Timestamp')\n",
    "plt.ylabel('Sensor Values')\n",
    "plt.title('Sensor Values Before Calibration')\n",
    "plt.legend()\n",
    "\n",
    "# Improve the readability of the x-axis\n",
    "plt.xticks(ticks=range(0, len(merged_data), len(merged_data)//30), rotation=45)\n",
    "plt.show()\n"
   ]
  },
  {
   "cell_type": "code",
   "execution_count": null,
   "metadata": {},
   "outputs": [],
   "source": [
    "# Plot the results\n",
    "plt.figure(figsize=(12, 6))\n",
    "\n",
    "# Scatter plot of the high-end sensor values\n",
    "plt.plot(merged_data['created_at'], merged_data[f'{column_name}_highend'], color='green', label='Aero Sensor Values', linewidth=0.5)\n",
    "\n",
    "# Plot the predicted values\n",
    "plt.plot(merged_data['created_at'], linear_predictions, color='blue', label='Predicted Values', linewidth=0.5)\n",
    "\n",
    "plt.xlabel('Timestamp')\n",
    "plt.ylabel('Sensor Values')\n",
    "plt.title('Sensor Values After Calibration')\n",
    "plt.legend()\n",
    "\n",
    "# Improve the readability of the x-axis\n",
    "plt.xticks(ticks=range(0, len(merged_data), len(merged_data)//30), rotation=45)\n",
    "plt.show()\n"
   ]
  },
  {
   "cell_type": "code",
   "execution_count": null,
   "metadata": {},
   "outputs": [],
   "source": [
    "from sklearn.metrics import mean_squared_error, mean_absolute_error, r2_score\n",
    "\n",
    "# Calculate metrics for the linear regression model\n",
    "mse = mean_squared_error(y, linear_predictions)\n",
    "mae = mean_absolute_error(y, linear_predictions)\n",
    "r2 = r2_score(y, linear_predictions)\n",
    "\n",
    "print(f'Linear Regression Model Metrics:')\n",
    "print(f'Mean Squared Error (MSE): {mse}')\n",
    "print(f'Mean Absolute Error (MAE): {mae}')\n",
    "print(f'R-squared (R2): {r2}')"
   ]
  },
  {
   "cell_type": "markdown",
   "metadata": {
    "vscode": {
     "languageId": "tex"
    }
   },
   "source": [
    "## Step 5: Other Regression Models\n",
    "\n",
    "In addition to the standard linear regression model, we also explore **Ridge** and **Lasso** regression models. These models are useful when dealing with multicollinearity or when we want to perform feature selection.\n",
    "\n",
    "#### Ridge Regression\n",
    "This technique used in linear regression to address the problem of multicollinearity among predictor variables. Multicollinearity occurs when independent variables in a regression model are highly correlated, which can lead to unreliable and unstable estimates of regression coefficients.Ridge regression adds a penalty equal to the square of the magnitude of the coefficients to the loss function. This penalty term helps shrink the coefficients, thus reducing model complexity and preventing overfitting.\n",
    "\n",
    "The Ridge regression model equation is:\n",
    "\n",
    "$$\n",
    "y = \\beta_0 + \\beta_1 X + \\lambda \\sum_{i=1}^{n} \\beta_i^2\n",
    "$$\n",
    "\n",
    "Where:\n",
    "- \\( \\beta_0 \\): Intercept\n",
    "- \\( \\beta_1 \\): Coefficient\n",
    "- \\( \\lambda \\): Regularization parameter"
   ]
  },
  {
   "cell_type": "code",
   "execution_count": null,
   "metadata": {},
   "outputs": [],
   "source": [
    "from sklearn.linear_model import Ridge\n",
    "\n",
    "# Assuming X and y are predefined\n",
    "ridge_model = Ridge(alpha=2.0)  # Default alpha (lambda) is 1.0\n",
    "ridge_model.fit(X, y)\n",
    "\n",
    "# Get the coefficient, intercept, and regularization parameter\n",
    "ridge_coefficient = ridge_model.coef_[0]\n",
    "ridge_intercept = ridge_model.intercept_\n",
    "ridge_lambda = ridge_model.alpha  # Access the lambda (regularization parameter)\n",
    "\n",
    "# Print the first 5 predictions\n",
    "ridge_predictions = ridge_model.predict(X)\n",
    "print('Ridge Regression Predictions (first 5):', ridge_predictions[:5])\n",
    "\n",
    "# Print the coefficients, intercept, and regularization parameter\n",
    "print(f'Ridge Coefficient: {ridge_coefficient}')\n",
    "print(f'Ridge Intercept: {ridge_intercept}')\n",
    "print(f'Ridge Regularization Parameter (alpha): {ridge_lambda}')\n",
    "\n",
    "# Display the equation for the Ridge regression model\n",
    "print(f'Ridge Regression Model Equation: y = {ridge_coefficient} * X + {ridge_intercept}')\n"
   ]
  },
  {
   "cell_type": "markdown",
   "metadata": {},
   "source": [
    "\n",
    "#### Lasso Regression\n",
    "The Lasso Regression, a regression method based on Least Absolute Shrinkage and Selection Operator is quite an important technique in regression analysis for selecting the variables and regularization. It gets rid of irrelevant data features that help to prevent overfitting and features with weak influence become more cleanly identifiable because of shrinking the coefficients toward zero.\n",
    "\n",
    "The Lasso regression model equation is:\n",
    "\n",
    "$$\n",
    "y = \\beta_0 + \\beta_1 X + \\lambda \\sum_{i=1}^{n} |\\beta_i|\n",
    "$$\n",
    "\n",
    "Where:\n",
    "- \\( \\beta_0 \\): Intercept\n",
    "- \\( \\beta_1 \\): Coefficient\n",
    "- \\( \\lambda \\): Regularization parameter\n"
   ]
  },
  {
   "cell_type": "code",
   "execution_count": null,
   "metadata": {},
   "outputs": [],
   "source": [
    "from sklearn.linear_model import Lasso\n",
    "\n",
    "# Assuming X and y are predefined\n",
    "lasso_model = Lasso(alpha=1.0)  # Default alpha (lambda) is 1.0\n",
    "lasso_model.fit(X, y)\n",
    "\n",
    "# Get the coefficient, intercept, and regularization parameter\n",
    "lasso_coefficient = lasso_model.coef_[0]\n",
    "lasso_intercept = lasso_model.intercept_\n",
    "lasso_alpha = lasso_model.alpha  # This will raise an AttributeError\n",
    "\n",
    "# Correctly accessing alpha (lambda)\n",
    "lasso_alpha = lasso_model.get_params()['alpha']  # Retrieve the alpha value\n",
    "\n",
    "# Print the first 5 predictions\n",
    "lasso_predictions = lasso_model.predict(X)\n",
    "print('Lasso Regression Predictions (first 5):', lasso_predictions[:5])\n",
    "\n",
    "# Print the coefficients, intercept, and regularization parameter\n",
    "print(f'Lasso Coefficient: {lasso_coefficient}')\n",
    "print(f'Lasso Intercept: {lasso_intercept}')\n",
    "print(f'Lasso Regularization Parameter (alpha): {lasso_alpha}')\n",
    "\n",
    "# Display the equation for the Lasso regression model\n",
    "print(f'Lasso Regression Model Equation: y = {lasso_coefficient} * X + {lasso_intercept}')\n"
   ]
  },
  {
   "cell_type": "markdown",
   "metadata": {},
   "source": [
    "\n",
    "#### Benefits of Ridge and Lasso Regression\n",
    "Both Ridge and Lasso regression models help improve the generalization of the model by adding a regularization term to the loss function:\n",
    "- **Ridge**: Reduces model complexity by shrinking coefficients but does not perform feature selection.\n",
    "- **Lasso**: Performs feature selection by shrinking some coefficients to zero.\n"
   ]
  },
  {
   "cell_type": "markdown",
   "metadata": {},
   "source": [
    "## Step 6: Comparison Results"
   ]
  },
  {
   "cell_type": "code",
   "execution_count": null,
   "metadata": {
    "vscode": {
     "languageId": "markdown"
    }
   },
   "outputs": [],
   "source": [
    "# Calculate metrics for the linear regression model\n",
    "linear_mse = mean_squared_error(y, linear_predictions)\n",
    "linear_mae = mean_absolute_error(y, linear_predictions)\n",
    "linear_r2 = r2_score(y, linear_predictions)\n",
    "\n",
    "# Calculate metrics for the lasso regression model\n",
    "lasso_mse = mean_squared_error(y, lasso_predictions)\n",
    "lasso_mae = mean_absolute_error(y, lasso_predictions)\n",
    "lasso_r2 = r2_score(y, lasso_predictions)\n",
    "\n",
    "# Calculate metrics for the ridge regression model\n",
    "ridge_mse = mean_squared_error(y, ridge_predictions)\n",
    "ridge_mae = mean_absolute_error(y, ridge_predictions)\n",
    "ridge_r2 = r2_score(y, ridge_predictions)\n",
    "\n",
    "# Create a DataFrame to compare the metrics\n",
    "metrics_df = pd.DataFrame({\n",
    "    'Model': ['Linear Regression', 'Lasso Regression', 'Ridge Regression'],\n",
    "    'MSE': [linear_mse, lasso_mse, ridge_mse],\n",
    "    'MAE': [linear_mae, lasso_mae, ridge_mae],\n",
    "    'R2': [linear_r2, lasso_r2, ridge_r2]\n",
    "})\n",
    "\n",
    "# Display the metrics comparison\n",
    "display(metrics_df)\n",
    "\n",
    "# Determine the best performing model based on R2 score\n",
    "best_model = metrics_df.loc[metrics_df['R2'].idxmax()]\n",
    "print(f'Best Performing Model:\\n{best_model}')"
   ]
  }
 ],
 "metadata": {
  "kernelspec": {
   "display_name": "venv",
   "language": "python",
   "name": "python3"
  },
  "language_info": {
   "codemirror_mode": {
    "name": "ipython",
    "version": 3
   },
   "file_extension": ".py",
   "mimetype": "text/x-python",
   "name": "python",
   "nbconvert_exporter": "python",
   "pygments_lexer": "ipython3",
   "version": "3.11.6"
  }
 },
 "nbformat": 4,
 "nbformat_minor": 2
}
